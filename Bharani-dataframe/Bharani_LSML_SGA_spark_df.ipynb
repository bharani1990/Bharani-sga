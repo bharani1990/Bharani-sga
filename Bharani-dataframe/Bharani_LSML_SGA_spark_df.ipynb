{
  "cells": [
    {
      "cell_type": "code",
      "execution_count": null,
      "metadata": {
        "collapsed": true,
        "id": "J_X7FGdBaSCH"
      },
      "outputs": [],
      "source": [
        "import pandas as pd\n",
        "from datetime import datetime\n",
        "import numpy as np\n",
        "import math\n",
        "import functools"
      ]
    },
    {
      "cell_type": "code",
      "execution_count": null,
      "metadata": {
        "collapsed": true,
        "id": "hA6JkJw7aSCI"
      },
      "outputs": [],
      "source": [
        "spark = SparkSession \\\n",
        "    .builder \\\n",
        "    .appName(\"Python Spark SQL basic example\") \\\n",
        "    .config(\"spark.some.config.option\", \"some-value\") \\\n",
        "    .getOrCreate()"
      ]
    },
    {
      "cell_type": "code",
      "execution_count": null,
      "metadata": {
        "id": "45zQ1kSbaSCI",
        "outputId": "bbafe948-94bc-4caa-b6c2-94e56067d46f"
      },
      "outputs": [
        {
          "data": {
            "text/html": [
              "\n",
              "            <div>\n",
              "                <p><b>SparkSession - hive</b></p>\n",
              "                \n",
              "        <div>\n",
              "            <p><b>SparkContext</b></p>\n",
              "\n",
              "            <p><a href=\"http://hadoop2-00.yandex.ru:4044\">Spark UI</a></p>\n",
              "\n",
              "            <dl>\n",
              "              <dt>Version</dt>\n",
              "                <dd><code>v2.3.0.cloudera3</code></dd>\n",
              "              <dt>Master</dt>\n",
              "                <dd><code>yarn</code></dd>\n",
              "              <dt>AppName</dt>\n",
              "                <dd><code>PySparkShell</code></dd>\n",
              "            </dl>\n",
              "        </div>\n",
              "        \n",
              "            </div>\n",
              "        "
            ],
            "text/plain": [
              "<pyspark.sql.session.SparkSession at 0x7f5f5c010588>"
            ]
          },
          "execution_count": 4,
          "metadata": {},
          "output_type": "execute_result"
        }
      ],
      "source": [
        "spark"
      ]
    },
    {
      "cell_type": "code",
      "execution_count": null,
      "metadata": {
        "id": "HoHt5IjzaSCK"
      },
      "outputs": [],
      "source": [
        "clickstream_df = spark.read.options(delimiter='\\t', header='True', inferSchema='True').csv('hdfs:///data/lsml/sga/clickstream.csv')"
      ]
    },
    {
      "cell_type": "code",
      "execution_count": null,
      "metadata": {
        "collapsed": true,
        "id": "ip-HbJMuaSCL"
      },
      "outputs": [],
      "source": [
        "from pyspark.sql.functions import col, min, collect_list, count, desc, udf"
      ]
    },
    {
      "cell_type": "code",
      "execution_count": null,
      "metadata": {
        "collapsed": true,
        "id": "mPsxVG1CaSCM"
      },
      "outputs": [],
      "source": [
        "def shape(df):\n",
        "    return df.count(), len(df.columns)"
      ]
    },
    {
      "cell_type": "code",
      "execution_count": null,
      "metadata": {
        "id": "9VTIRZIraSCN"
      },
      "outputs": [],
      "source": [
        "# shape(clickstream_df)"
      ]
    },
    {
      "cell_type": "code",
      "execution_count": null,
      "metadata": {
        "id": "iNuDeeYhaSCO",
        "outputId": "4ed86499-3377-491d-e5ca-1352122ed38c"
      },
      "outputs": [
        {
          "data": {
            "text/plain": [
              "[('user_id', 'int'),\n",
              " ('session_id', 'int'),\n",
              " ('event_type', 'string'),\n",
              " ('event_page', 'string'),\n",
              " ('timestamp', 'int')]"
            ]
          },
          "execution_count": 10,
          "metadata": {},
          "output_type": "execute_result"
        }
      ],
      "source": [
        "clickstream_df.dtypes"
      ]
    },
    {
      "cell_type": "code",
      "execution_count": null,
      "metadata": {
        "id": "Ub3Ado7QaSCO"
      },
      "outputs": [],
      "source": [
        "error_min_time_df = clickstream_df.filter(\n",
        "        col('event_type').contains('error')).groupBy(\n",
        "        'user_id', 'session_id').agg(\n",
        "        min(clickstream_df.timestamp).alias('emt_timestamp'))\n",
        "\n",
        "error_min_time_df = error_min_time_df.withColumnRenamed('user_id','emt_user_id').withColumnRenamed('session_id','emt_session_id')"
      ]
    },
    {
      "cell_type": "code",
      "execution_count": null,
      "metadata": {
        "id": "wFW4Ba_TaSCP"
      },
      "outputs": [],
      "source": [
        "# shape(error_min_time_df)"
      ]
    },
    {
      "cell_type": "code",
      "execution_count": null,
      "metadata": {
        "id": "woFrWRAdaSCQ"
      },
      "outputs": [],
      "source": [
        "routes_df = clickstream_df.join(error_min_time_df, [\n",
        "        clickstream_df.user_id == error_min_time_df.emt_user_id, \n",
        "        clickstream_df.session_id == error_min_time_df.emt_session_id], \n",
        "        'left_outer').filter(\n",
        "        (col('event_type') == 'page') & \\\n",
        "        ((error_min_time_df.emt_timestamp.isNull()) | \\\n",
        "        (clickstream_df.timestamp <= error_min_time_df.emt_timestamp))).orderBy(clickstream_df.timestamp)"
      ]
    },
    {
      "cell_type": "code",
      "execution_count": null,
      "metadata": {
        "id": "84XzNW1jaSCR"
      },
      "outputs": [],
      "source": [
        "# shape(routes_df)"
      ]
    },
    {
      "cell_type": "code",
      "execution_count": null,
      "metadata": {
        "id": "2llf3xJHaSCR"
      },
      "outputs": [],
      "source": [
        "final_routes = routes_df.groupby(\n",
        "    'user_id', 'session_id').agg(\n",
        "    collect_list('event_page').alias('route')).groupBy(\n",
        "    'route').agg(\n",
        "    count('user_id').alias('count')).orderBy(\n",
        "    desc('count')).withColumn('route', udf(lambda x: '-'.join(x))(col('route')))\n",
        "# build_route_pyspark = udf(lambda x: '-'.join(x))\n",
        "# final_routes.withColumn('route', build_route_pyspark(col('route'))).show(30)"
      ]
    },
    {
      "cell_type": "code",
      "execution_count": null,
      "metadata": {
        "id": "QOn5X5dmaSCS"
      },
      "outputs": [],
      "source": [
        "# final_routes.show(30)"
      ]
    },
    {
      "cell_type": "code",
      "execution_count": null,
      "metadata": {
        "collapsed": true,
        "id": "2v567qYGaSCS"
      },
      "outputs": [],
      "source": [
        "final_routes_pd = final_routes.toPandas()"
      ]
    },
    {
      "cell_type": "code",
      "execution_count": null,
      "metadata": {
        "id": "9OKLLX8eaSCT",
        "outputId": "471d0c82-607a-4a63-9618-1540852501b0"
      },
      "outputs": [
        {
          "data": {
            "text/html": [
              "<div>\n",
              "<style>\n",
              "    .dataframe thead tr:only-child th {\n",
              "        text-align: right;\n",
              "    }\n",
              "\n",
              "    .dataframe thead th {\n",
              "        text-align: left;\n",
              "    }\n",
              "\n",
              "    .dataframe tbody tr th {\n",
              "        vertical-align: top;\n",
              "    }\n",
              "</style>\n",
              "<table border=\"1\" class=\"dataframe\">\n",
              "  <thead>\n",
              "    <tr style=\"text-align: right;\">\n",
              "      <th></th>\n",
              "      <th>route</th>\n",
              "      <th>count</th>\n",
              "    </tr>\n",
              "  </thead>\n",
              "  <tbody>\n",
              "    <tr>\n",
              "      <th>0</th>\n",
              "      <td>main</td>\n",
              "      <td>39250</td>\n",
              "    </tr>\n",
              "    <tr>\n",
              "      <th>1</th>\n",
              "      <td>main-tariffs</td>\n",
              "      <td>6408</td>\n",
              "    </tr>\n",
              "    <tr>\n",
              "      <th>2</th>\n",
              "      <td>main-news</td>\n",
              "      <td>6152</td>\n",
              "    </tr>\n",
              "    <tr>\n",
              "      <th>3</th>\n",
              "      <td>main-archive</td>\n",
              "      <td>5739</td>\n",
              "    </tr>\n",
              "    <tr>\n",
              "      <th>4</th>\n",
              "      <td>main-family</td>\n",
              "      <td>4773</td>\n",
              "    </tr>\n",
              "    <tr>\n",
              "      <th>5</th>\n",
              "      <td>main-digital</td>\n",
              "      <td>4136</td>\n",
              "    </tr>\n",
              "    <tr>\n",
              "      <th>6</th>\n",
              "      <td>main-bonus</td>\n",
              "      <td>3427</td>\n",
              "    </tr>\n",
              "    <tr>\n",
              "      <th>7</th>\n",
              "      <td>main-tariffs-news</td>\n",
              "      <td>1154</td>\n",
              "    </tr>\n",
              "    <tr>\n",
              "      <th>8</th>\n",
              "      <td>main-news-tariffs</td>\n",
              "      <td>1093</td>\n",
              "    </tr>\n",
              "    <tr>\n",
              "      <th>9</th>\n",
              "      <td>main-tariffs-archive</td>\n",
              "      <td>997</td>\n",
              "    </tr>\n",
              "    <tr>\n",
              "      <th>10</th>\n",
              "      <td>main-archive-news</td>\n",
              "      <td>971</td>\n",
              "    </tr>\n",
              "    <tr>\n",
              "      <th>11</th>\n",
              "      <td>main-news-archive</td>\n",
              "      <td>967</td>\n",
              "    </tr>\n",
              "    <tr>\n",
              "      <th>12</th>\n",
              "      <td>main-archive-tariffs</td>\n",
              "      <td>954</td>\n",
              "    </tr>\n",
              "    <tr>\n",
              "      <th>13</th>\n",
              "      <td>main-tariffs-family</td>\n",
              "      <td>899</td>\n",
              "    </tr>\n",
              "    <tr>\n",
              "      <th>14</th>\n",
              "      <td>main-family-tariffs</td>\n",
              "      <td>895</td>\n",
              "    </tr>\n",
              "    <tr>\n",
              "      <th>15</th>\n",
              "      <td>main-news-family</td>\n",
              "      <td>893</td>\n",
              "    </tr>\n",
              "    <tr>\n",
              "      <th>16</th>\n",
              "      <td>main-family-news</td>\n",
              "      <td>852</td>\n",
              "    </tr>\n",
              "    <tr>\n",
              "      <th>17</th>\n",
              "      <td>main-archive-family</td>\n",
              "      <td>783</td>\n",
              "    </tr>\n",
              "    <tr>\n",
              "      <th>18</th>\n",
              "      <td>main-news-digital</td>\n",
              "      <td>761</td>\n",
              "    </tr>\n",
              "    <tr>\n",
              "      <th>19</th>\n",
              "      <td>main-family-archive</td>\n",
              "      <td>752</td>\n",
              "    </tr>\n",
              "    <tr>\n",
              "      <th>20</th>\n",
              "      <td>main-tariffs-main</td>\n",
              "      <td>727</td>\n",
              "    </tr>\n",
              "    <tr>\n",
              "      <th>21</th>\n",
              "      <td>main-digital-news</td>\n",
              "      <td>723</td>\n",
              "    </tr>\n",
              "    <tr>\n",
              "      <th>22</th>\n",
              "      <td>main-tariffs-digital</td>\n",
              "      <td>720</td>\n",
              "    </tr>\n",
              "    <tr>\n",
              "      <th>23</th>\n",
              "      <td>main-archive-digital</td>\n",
              "      <td>702</td>\n",
              "    </tr>\n",
              "    <tr>\n",
              "      <th>24</th>\n",
              "      <td>main-digital-tariffs</td>\n",
              "      <td>700</td>\n",
              "    </tr>\n",
              "    <tr>\n",
              "      <th>25</th>\n",
              "      <td>main-spravka</td>\n",
              "      <td>694</td>\n",
              "    </tr>\n",
              "    <tr>\n",
              "      <th>26</th>\n",
              "      <td>main-news-main</td>\n",
              "      <td>665</td>\n",
              "    </tr>\n",
              "    <tr>\n",
              "      <th>27</th>\n",
              "      <td>main-digital-archive</td>\n",
              "      <td>662</td>\n",
              "    </tr>\n",
              "    <tr>\n",
              "      <th>28</th>\n",
              "      <td>main-tariffs-bonus</td>\n",
              "      <td>649</td>\n",
              "    </tr>\n",
              "    <tr>\n",
              "      <th>29</th>\n",
              "      <td>main-archive-main</td>\n",
              "      <td>605</td>\n",
              "    </tr>\n",
              "  </tbody>\n",
              "</table>\n",
              "</div>"
            ],
            "text/plain": [
              "                   route  count\n",
              "0                   main  39250\n",
              "1           main-tariffs   6408\n",
              "2              main-news   6152\n",
              "3           main-archive   5739\n",
              "4            main-family   4773\n",
              "5           main-digital   4136\n",
              "6             main-bonus   3427\n",
              "7      main-tariffs-news   1154\n",
              "8      main-news-tariffs   1093\n",
              "9   main-tariffs-archive    997\n",
              "10     main-archive-news    971\n",
              "11     main-news-archive    967\n",
              "12  main-archive-tariffs    954\n",
              "13   main-tariffs-family    899\n",
              "14   main-family-tariffs    895\n",
              "15      main-news-family    893\n",
              "16      main-family-news    852\n",
              "17   main-archive-family    783\n",
              "18     main-news-digital    761\n",
              "19   main-family-archive    752\n",
              "20     main-tariffs-main    727\n",
              "21     main-digital-news    723\n",
              "22  main-tariffs-digital    720\n",
              "23  main-archive-digital    702\n",
              "24  main-digital-tariffs    700\n",
              "25          main-spravka    694\n",
              "26        main-news-main    665\n",
              "27  main-digital-archive    662\n",
              "28    main-tariffs-bonus    649\n",
              "29     main-archive-main    605"
            ]
          },
          "execution_count": 36,
          "metadata": {},
          "output_type": "execute_result"
        }
      ],
      "source": [
        "final_routes_pd.head(30)"
      ]
    },
    {
      "cell_type": "code",
      "execution_count": null,
      "metadata": {
        "collapsed": true,
        "id": "cznQTv-XaSCT"
      },
      "outputs": [],
      "source": [
        "final_routes_pd.head(30).to_csv('bharani_lsml_sga_spark_df.tsv', sep='\\t', encoding='utf-8', header=False, index=False)"
      ]
    },
    {
      "cell_type": "code",
      "execution_count": null,
      "metadata": {
        "id": "0GEa33kIaSCU",
        "outputId": "dd75e61f-0f30-4548-d8db-829f1cbe323b"
      },
      "outputs": [
        {
          "name": "stdout",
          "output_type": "stream",
          "text": [
            "main\t39250\r\n",
            "main-tariffs\t6408\r\n",
            "main-news\t6152\r\n",
            "main-archive\t5739\r\n",
            "main-family\t4773\r\n",
            "main-digital\t4136\r\n",
            "main-bonus\t3427\r\n",
            "main-tariffs-news\t1154\r\n",
            "main-news-tariffs\t1093\r\n",
            "main-tariffs-archive\t997\r\n",
            "main-archive-news\t971\r\n",
            "main-news-archive\t967\r\n",
            "main-archive-tariffs\t954\r\n",
            "main-tariffs-family\t899\r\n",
            "main-family-tariffs\t895\r\n",
            "main-news-family\t893\r\n",
            "main-family-news\t852\r\n",
            "main-archive-family\t783\r\n",
            "main-news-digital\t761\r\n",
            "main-family-archive\t752\r\n",
            "main-tariffs-main\t727\r\n",
            "main-digital-news\t723\r\n",
            "main-tariffs-digital\t720\r\n",
            "main-archive-digital\t702\r\n",
            "main-digital-tariffs\t700\r\n",
            "main-spravka\t694\r\n",
            "main-news-main\t665\r\n",
            "main-digital-archive\t662\r\n",
            "main-tariffs-bonus\t649\r\n",
            "main-archive-main\t605\r\n"
          ]
        }
      ],
      "source": [
        "! cat bharani_lsml_sga_spark_df.tsv"
      ]
    },
    {
      "cell_type": "code",
      "execution_count": null,
      "metadata": {
        "id": "Fg2Rs5FhaSCV",
        "outputId": "aebc3af0-fa28-41b2-e6ab-b9e84b0baff5"
      },
      "outputs": [
        {
          "name": "stdout",
          "output_type": "stream",
          "text": [
            "Great job! Secret keyword is 'AwfulDavros'\r\n"
          ]
        }
      ],
      "source": [
        "! curl -d \"$(cat bharani_lsml_sga_spark_df.tsv)\" hadoop2-00.yandex.ru:8008/sga/task_spark-df"
      ]
    },
    {
      "cell_type": "code",
      "execution_count": null,
      "metadata": {
        "collapsed": true,
        "id": "tbLg9hkXaSCW"
      },
      "outputs": [],
      "source": []
    }
  ],
  "metadata": {
    "kernelspec": {
      "display_name": "Python 3",
      "language": "python",
      "name": "python3"
    },
    "language_info": {
      "codemirror_mode": {
        "name": "ipython",
        "version": 3
      },
      "file_extension": ".py",
      "mimetype": "text/x-python",
      "name": "python",
      "nbconvert_exporter": "python",
      "pygments_lexer": "ipython3",
      "version": "3.4.3"
    },
    "colab": {
      "provenance": [],
      "collapsed_sections": []
    }
  },
  "nbformat": 4,
  "nbformat_minor": 0
}