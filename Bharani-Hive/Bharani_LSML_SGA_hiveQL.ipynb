{
  "cells": [
    {
      "cell_type": "code",
      "execution_count": null,
      "metadata": {
        "collapsed": true,
        "id": "yRaqdYNVae80"
      },
      "outputs": [],
      "source": [
        "import pandas as pd\n",
        "from datetime import datetime\n",
        "import numpy as np\n",
        "import math\n",
        "import functools"
      ]
    },
    {
      "cell_type": "code",
      "execution_count": null,
      "metadata": {
        "collapsed": true,
        "id": "9UDnifwjae9C"
      },
      "outputs": [],
      "source": [
        "spark = SparkSession \\\n",
        "    .builder \\\n",
        "    .appName(\"Python Spark SQL basic example\") \\\n",
        "    .config(\"spark.some.config.option\", \"some-value\") \\\n",
        "    .getOrCreate()"
      ]
    },
    {
      "cell_type": "code",
      "execution_count": null,
      "metadata": {
        "id": "nr2S_OSMae9D",
        "outputId": "fea3b692-bf0a-4779-f207-13e6002d8fb6"
      },
      "outputs": [
        {
          "data": {
            "text/html": [
              "\n",
              "            <div>\n",
              "                <p><b>SparkSession - hive</b></p>\n",
              "                \n",
              "        <div>\n",
              "            <p><b>SparkContext</b></p>\n",
              "\n",
              "            <p><a href=\"http://hadoop2-00.yandex.ru:4045\">Spark UI</a></p>\n",
              "\n",
              "            <dl>\n",
              "              <dt>Version</dt>\n",
              "                <dd><code>v2.3.0.cloudera3</code></dd>\n",
              "              <dt>Master</dt>\n",
              "                <dd><code>yarn</code></dd>\n",
              "              <dt>AppName</dt>\n",
              "                <dd><code>PySparkShell</code></dd>\n",
              "            </dl>\n",
              "        </div>\n",
              "        \n",
              "            </div>\n",
              "        "
            ],
            "text/plain": [
              "<pyspark.sql.session.SparkSession at 0x7fa1b004b550>"
            ]
          },
          "execution_count": 14,
          "metadata": {},
          "output_type": "execute_result"
        }
      ],
      "source": [
        "spark"
      ]
    },
    {
      "cell_type": "code",
      "execution_count": null,
      "metadata": {
        "id": "GcISIi-Vae9E"
      },
      "outputs": [],
      "source": [
        "clickstream_df = spark.read.options(delimiter='\\t', header='True', inferSchema='True').csv('hdfs:///data/lsml/sga/clickstream.csv')"
      ]
    },
    {
      "cell_type": "code",
      "execution_count": null,
      "metadata": {
        "collapsed": true,
        "id": "PkrieIevae9F"
      },
      "outputs": [],
      "source": [
        "from pyspark.sql.functions import *"
      ]
    },
    {
      "cell_type": "code",
      "execution_count": null,
      "metadata": {
        "collapsed": true,
        "id": "kHoJ5jxyae9G"
      },
      "outputs": [],
      "source": [
        "def shape(df):\n",
        "    return df.count(), len(df.columns)"
      ]
    },
    {
      "cell_type": "code",
      "execution_count": null,
      "metadata": {
        "id": "VvIAQkPIae9I",
        "outputId": "ce853d21-2209-4ff6-aa5b-a71dbd0abad5"
      },
      "outputs": [
        {
          "data": {
            "text/plain": [
              "[('user_id', 'int'),\n",
              " ('session_id', 'int'),\n",
              " ('event_type', 'string'),\n",
              " ('event_page', 'string'),\n",
              " ('timestamp', 'int')]"
            ]
          },
          "execution_count": 20,
          "metadata": {},
          "output_type": "execute_result"
        }
      ],
      "source": [
        "clickstream_df.dtypes"
      ]
    },
    {
      "cell_type": "code",
      "execution_count": null,
      "metadata": {
        "collapsed": true,
        "id": "AX0VQ0yfae9J"
      },
      "outputs": [],
      "source": [
        "clickstream_df.registerTempTable('clickstream_tbl')"
      ]
    },
    {
      "cell_type": "code",
      "execution_count": null,
      "metadata": {
        "id": "jfk-sGZ_ae9K"
      },
      "outputs": [],
      "source": [
        "zeroth_query = \"select * from clickstream_tbl limit 10\" # Just Checking --> Hence its named Zeroth Query"
      ]
    },
    {
      "cell_type": "code",
      "execution_count": null,
      "metadata": {
        "collapsed": true,
        "id": "lLLnVzJDae9L"
      },
      "outputs": [],
      "source": [
        "# spark.sql(zeroth_query).show()"
      ]
    },
    {
      "cell_type": "code",
      "execution_count": null,
      "metadata": {
        "id": "UkLF51ICae9M"
      },
      "outputs": [],
      "source": [
        "first_query = \"select user_id, session_id, min(timestamp) as timestamp \\\n",
        "                from clickstream_tbl \\\n",
        "                where event_type like '%error%' \\\n",
        "                group by user_id, session_id\"\n",
        "\n",
        "error_min_time_df = spark.sql(first_query)"
      ]
    },
    {
      "cell_type": "code",
      "execution_count": null,
      "metadata": {
        "id": "lUNkChtEae9M"
      },
      "outputs": [],
      "source": [
        "# print(shape(error_min_time_df))\n",
        "# error_min_time_df.show(10)"
      ]
    },
    {
      "cell_type": "code",
      "execution_count": null,
      "metadata": {
        "collapsed": true,
        "id": "36d4Q-MPae9N"
      },
      "outputs": [],
      "source": [
        "error_min_time_df.registerTempTable('error_min_time_tbl')"
      ]
    },
    {
      "cell_type": "code",
      "execution_count": null,
      "metadata": {
        "id": "ZuIu5Fenae9N"
      },
      "outputs": [],
      "source": [
        "second_query = \"select cst.* \\\n",
        "               from clickstream_tbl as cst \\\n",
        "               left outer join \\\n",
        "               error_min_time_tbl as emt \\\n",
        "               on cst.user_id == emt.user_id and cst.session_id == emt.session_id \\\n",
        "               where event_type == 'page' and (emt.timestamp is null or cst.timestamp <= emt.timestamp) \\\n",
        "               order by cst.timestamp\"\n",
        "\n",
        "routes_df = spark.sql(second_query)"
      ]
    },
    {
      "cell_type": "code",
      "execution_count": null,
      "metadata": {
        "id": "WlokTCsiae9O"
      },
      "outputs": [],
      "source": [
        "# print(shape(routes_df))\n",
        "# routes_df.show(10)"
      ]
    },
    {
      "cell_type": "code",
      "execution_count": null,
      "metadata": {
        "collapsed": true,
        "id": "ALCCg9y_ae9W"
      },
      "outputs": [],
      "source": [
        "routes_df.registerTempTable('routes_tbl')"
      ]
    },
    {
      "cell_type": "code",
      "execution_count": null,
      "metadata": {
        "collapsed": true,
        "id": "yaAMbSA3ae9X"
      },
      "outputs": [],
      "source": [
        "third_query = \"select user_id, session_id, \\\n",
        "                concat_ws('-', collect_list(event_page)) as route\\\n",
        "                from routes_tbl \\\n",
        "                group by user_id, session_id\"\n",
        "\n",
        "final_routes = spark.sql(third_query)"
      ]
    },
    {
      "cell_type": "code",
      "execution_count": null,
      "metadata": {
        "id": "wwJ7rarcae9X"
      },
      "outputs": [],
      "source": [
        "# print(shape(final_routes))\n",
        "# final_routes.show()"
      ]
    },
    {
      "cell_type": "code",
      "execution_count": null,
      "metadata": {
        "collapsed": true,
        "id": "yNI2XgbYae9Y"
      },
      "outputs": [],
      "source": [
        "final_routes.registerTempTable('final_routes_tbl')"
      ]
    },
    {
      "cell_type": "code",
      "execution_count": null,
      "metadata": {
        "collapsed": true,
        "id": "7_5dFeWCae9Y"
      },
      "outputs": [],
      "source": [
        "fourth_query = \"select route, count(user_id) as count \\\n",
        "               from final_routes_tbl \\\n",
        "               group by route \\\n",
        "               order by count desc\"\n",
        "\n",
        "user_routes = spark.sql(fourth_query)"
      ]
    },
    {
      "cell_type": "code",
      "execution_count": null,
      "metadata": {
        "id": "fivAzN7Zae9Z"
      },
      "outputs": [],
      "source": [
        "# print(shape(user_routes))\n",
        "# user_routes.show()"
      ]
    },
    {
      "cell_type": "code",
      "execution_count": null,
      "metadata": {
        "collapsed": true,
        "id": "1QWxHL1zae9Z"
      },
      "outputs": [],
      "source": [
        "final_routes_pd = user_routes.toPandas()"
      ]
    },
    {
      "cell_type": "code",
      "execution_count": null,
      "metadata": {
        "id": "yEBs8jqyae9a",
        "outputId": "904d59f1-9e82-4468-ac17-9bfe8834b8e7"
      },
      "outputs": [
        {
          "data": {
            "text/html": [
              "<div>\n",
              "<style>\n",
              "    .dataframe thead tr:only-child th {\n",
              "        text-align: right;\n",
              "    }\n",
              "\n",
              "    .dataframe thead th {\n",
              "        text-align: left;\n",
              "    }\n",
              "\n",
              "    .dataframe tbody tr th {\n",
              "        vertical-align: top;\n",
              "    }\n",
              "</style>\n",
              "<table border=\"1\" class=\"dataframe\">\n",
              "  <thead>\n",
              "    <tr style=\"text-align: right;\">\n",
              "      <th></th>\n",
              "      <th>route</th>\n",
              "      <th>count</th>\n",
              "    </tr>\n",
              "  </thead>\n",
              "  <tbody>\n",
              "    <tr>\n",
              "      <th>0</th>\n",
              "      <td>main</td>\n",
              "      <td>39250</td>\n",
              "    </tr>\n",
              "    <tr>\n",
              "      <th>1</th>\n",
              "      <td>main-tariffs</td>\n",
              "      <td>6416</td>\n",
              "    </tr>\n",
              "    <tr>\n",
              "      <th>2</th>\n",
              "      <td>main-news</td>\n",
              "      <td>6160</td>\n",
              "    </tr>\n",
              "    <tr>\n",
              "      <th>3</th>\n",
              "      <td>main-archive</td>\n",
              "      <td>5743</td>\n",
              "    </tr>\n",
              "    <tr>\n",
              "      <th>4</th>\n",
              "      <td>main-family</td>\n",
              "      <td>4768</td>\n",
              "    </tr>\n",
              "    <tr>\n",
              "      <th>5</th>\n",
              "      <td>main-digital</td>\n",
              "      <td>4135</td>\n",
              "    </tr>\n",
              "    <tr>\n",
              "      <th>6</th>\n",
              "      <td>main-bonus</td>\n",
              "      <td>3425</td>\n",
              "    </tr>\n",
              "    <tr>\n",
              "      <th>7</th>\n",
              "      <td>main-tariffs-news</td>\n",
              "      <td>1148</td>\n",
              "    </tr>\n",
              "    <tr>\n",
              "      <th>8</th>\n",
              "      <td>main-news-tariffs</td>\n",
              "      <td>1097</td>\n",
              "    </tr>\n",
              "    <tr>\n",
              "      <th>9</th>\n",
              "      <td>main-tariffs-archive</td>\n",
              "      <td>1005</td>\n",
              "    </tr>\n",
              "    <tr>\n",
              "      <th>10</th>\n",
              "      <td>main-news-archive</td>\n",
              "      <td>969</td>\n",
              "    </tr>\n",
              "    <tr>\n",
              "      <th>11</th>\n",
              "      <td>main-archive-tariffs</td>\n",
              "      <td>969</td>\n",
              "    </tr>\n",
              "    <tr>\n",
              "      <th>12</th>\n",
              "      <td>main-archive-news</td>\n",
              "      <td>960</td>\n",
              "    </tr>\n",
              "    <tr>\n",
              "      <th>13</th>\n",
              "      <td>main-tariffs-family</td>\n",
              "      <td>899</td>\n",
              "    </tr>\n",
              "    <tr>\n",
              "      <th>14</th>\n",
              "      <td>main-family-tariffs</td>\n",
              "      <td>899</td>\n",
              "    </tr>\n",
              "    <tr>\n",
              "      <th>15</th>\n",
              "      <td>main-news-family</td>\n",
              "      <td>885</td>\n",
              "    </tr>\n",
              "    <tr>\n",
              "      <th>16</th>\n",
              "      <td>main-family-news</td>\n",
              "      <td>853</td>\n",
              "    </tr>\n",
              "    <tr>\n",
              "      <th>17</th>\n",
              "      <td>main-archive-family</td>\n",
              "      <td>788</td>\n",
              "    </tr>\n",
              "    <tr>\n",
              "      <th>18</th>\n",
              "      <td>main-news-digital</td>\n",
              "      <td>765</td>\n",
              "    </tr>\n",
              "    <tr>\n",
              "      <th>19</th>\n",
              "      <td>main-family-archive</td>\n",
              "      <td>748</td>\n",
              "    </tr>\n",
              "    <tr>\n",
              "      <th>20</th>\n",
              "      <td>main-tariffs-main</td>\n",
              "      <td>736</td>\n",
              "    </tr>\n",
              "    <tr>\n",
              "      <th>21</th>\n",
              "      <td>main-tariffs-digital</td>\n",
              "      <td>723</td>\n",
              "    </tr>\n",
              "    <tr>\n",
              "      <th>22</th>\n",
              "      <td>main-digital-news</td>\n",
              "      <td>720</td>\n",
              "    </tr>\n",
              "    <tr>\n",
              "      <th>23</th>\n",
              "      <td>main-digital-tariffs</td>\n",
              "      <td>705</td>\n",
              "    </tr>\n",
              "    <tr>\n",
              "      <th>24</th>\n",
              "      <td>main-spravka</td>\n",
              "      <td>693</td>\n",
              "    </tr>\n",
              "    <tr>\n",
              "      <th>25</th>\n",
              "      <td>main-archive-digital</td>\n",
              "      <td>688</td>\n",
              "    </tr>\n",
              "    <tr>\n",
              "      <th>26</th>\n",
              "      <td>main-digital-archive</td>\n",
              "      <td>666</td>\n",
              "    </tr>\n",
              "    <tr>\n",
              "      <th>27</th>\n",
              "      <td>main-news-main</td>\n",
              "      <td>655</td>\n",
              "    </tr>\n",
              "    <tr>\n",
              "      <th>28</th>\n",
              "      <td>main-tariffs-bonus</td>\n",
              "      <td>647</td>\n",
              "    </tr>\n",
              "    <tr>\n",
              "      <th>29</th>\n",
              "      <td>main-archive-main</td>\n",
              "      <td>597</td>\n",
              "    </tr>\n",
              "  </tbody>\n",
              "</table>\n",
              "</div>"
            ],
            "text/plain": [
              "                   route  count\n",
              "0                   main  39250\n",
              "1           main-tariffs   6416\n",
              "2              main-news   6160\n",
              "3           main-archive   5743\n",
              "4            main-family   4768\n",
              "5           main-digital   4135\n",
              "6             main-bonus   3425\n",
              "7      main-tariffs-news   1148\n",
              "8      main-news-tariffs   1097\n",
              "9   main-tariffs-archive   1005\n",
              "10     main-news-archive    969\n",
              "11  main-archive-tariffs    969\n",
              "12     main-archive-news    960\n",
              "13   main-tariffs-family    899\n",
              "14   main-family-tariffs    899\n",
              "15      main-news-family    885\n",
              "16      main-family-news    853\n",
              "17   main-archive-family    788\n",
              "18     main-news-digital    765\n",
              "19   main-family-archive    748\n",
              "20     main-tariffs-main    736\n",
              "21  main-tariffs-digital    723\n",
              "22     main-digital-news    720\n",
              "23  main-digital-tariffs    705\n",
              "24          main-spravka    693\n",
              "25  main-archive-digital    688\n",
              "26  main-digital-archive    666\n",
              "27        main-news-main    655\n",
              "28    main-tariffs-bonus    647\n",
              "29     main-archive-main    597"
            ]
          },
          "execution_count": 39,
          "metadata": {},
          "output_type": "execute_result"
        }
      ],
      "source": [
        "final_routes_pd.head(30)"
      ]
    },
    {
      "cell_type": "code",
      "execution_count": null,
      "metadata": {
        "collapsed": true,
        "id": "PlTlYF6Aae9a"
      },
      "outputs": [],
      "source": [
        "final_routes_pd.head(30).to_csv('bharani_lsml_sga_hiveQL.tsv', sep='\\t', encoding='utf-8', header=False, index=False)"
      ]
    },
    {
      "cell_type": "code",
      "execution_count": null,
      "metadata": {
        "id": "UPXsYvPmae9b",
        "outputId": "549cbf19-64a7-44a7-c3ab-4feaecfd3c68"
      },
      "outputs": [
        {
          "name": "stdout",
          "output_type": "stream",
          "text": [
            "main\t39250\r\n",
            "main-tariffs\t6416\r\n",
            "main-news\t6160\r\n",
            "main-archive\t5743\r\n",
            "main-family\t4768\r\n",
            "main-digital\t4135\r\n",
            "main-bonus\t3425\r\n",
            "main-tariffs-news\t1148\r\n",
            "main-news-tariffs\t1097\r\n",
            "main-tariffs-archive\t1005\r\n",
            "main-news-archive\t969\r\n",
            "main-archive-tariffs\t969\r\n",
            "main-archive-news\t960\r\n",
            "main-tariffs-family\t899\r\n",
            "main-family-tariffs\t899\r\n",
            "main-news-family\t885\r\n",
            "main-family-news\t853\r\n",
            "main-archive-family\t788\r\n",
            "main-news-digital\t765\r\n",
            "main-family-archive\t748\r\n",
            "main-tariffs-main\t736\r\n",
            "main-tariffs-digital\t723\r\n",
            "main-digital-news\t720\r\n",
            "main-digital-tariffs\t705\r\n",
            "main-spravka\t693\r\n",
            "main-archive-digital\t688\r\n",
            "main-digital-archive\t666\r\n",
            "main-news-main\t655\r\n",
            "main-tariffs-bonus\t647\r\n",
            "main-archive-main\t597\r\n"
          ]
        }
      ],
      "source": [
        "! cat bharani_lsml_sga_hiveQL.tsv"
      ]
    },
    {
      "cell_type": "code",
      "execution_count": null,
      "metadata": {
        "id": "S3pVzt3eae9d",
        "outputId": "1d33f0d4-d61a-4fab-8e3f-21f0530b0be1"
      },
      "outputs": [
        {
          "name": "stdout",
          "output_type": "stream",
          "text": [
            "Great job! Secret keyword is 'HiveMind'\r\n"
          ]
        }
      ],
      "source": [
        "! curl -d \"$(cat bharani_lsml_sga_hiveQL.tsv)\" hadoop2-00.yandex.ru:8008/sga/task_hive"
      ]
    },
    {
      "cell_type": "code",
      "execution_count": null,
      "metadata": {
        "collapsed": true,
        "id": "7JAfjRuxae9e"
      },
      "outputs": [],
      "source": []
    }
  ],
  "metadata": {
    "kernelspec": {
      "display_name": "Python 3",
      "language": "python",
      "name": "python3"
    },
    "language_info": {
      "codemirror_mode": {
        "name": "ipython",
        "version": 3
      },
      "file_extension": ".py",
      "mimetype": "text/x-python",
      "name": "python",
      "nbconvert_exporter": "python",
      "pygments_lexer": "ipython3",
      "version": "3.4.3"
    },
    "colab": {
      "provenance": [],
      "collapsed_sections": []
    }
  },
  "nbformat": 4,
  "nbformat_minor": 0
}